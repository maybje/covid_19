{
  "nbformat": 4,
  "nbformat_minor": 0,
  "metadata": {
    "colab": {
      "name": "Untitled0.ipynb",
      "provenance": [],
      "collapsed_sections": [],
      "authorship_tag": "ABX9TyOnMhpf+M8koHUMwZgmoF22"
    },
    "kernelspec": {
      "name": "python3",
      "display_name": "Python 3"
    }
  },
  "cells": [
    {
      "cell_type": "code",
      "metadata": {
        "id": "kUTHo8l9YxHj",
        "colab_type": "code",
        "colab": {}
      },
      "source": [
        "!apt-get install -y openjdk-8-jdk-headless -qq > /dev/null\n",
        "!pip install -q tabula-py"
      ],
      "execution_count": 0,
      "outputs": []
    },
    {
      "cell_type": "code",
      "metadata": {
        "id": "3YZAXL-eY0zX",
        "colab_type": "code",
        "colab": {}
      },
      "source": [
        "import os\n",
        "os.environ[\"JAVA_HOME\"] = \"/usr/lib/jvm/java-8-openjdk-amd64\""
      ],
      "execution_count": 0,
      "outputs": []
    },
    {
      "cell_type": "code",
      "metadata": {
        "id": "YIT8a2kEUDJi",
        "colab_type": "code",
        "colab": {}
      },
      "source": [
        "import requests\n",
        "import urllib\n",
        "from bs4 import BeautifulSoup\n",
        "import re\n",
        "import io\n",
        "import csv\n",
        "import tabula\n",
        "import pandas as pd\n",
        "import numpy as np"
      ],
      "execution_count": 0,
      "outputs": []
    },
    {
      "cell_type": "code",
      "metadata": {
        "id": "77yfNrl1UXOJ",
        "colab_type": "code",
        "colab": {}
      },
      "source": [
        "path=os.getcwd()\n",
        "\n",
        "disease=\"neumonia\""
      ],
      "execution_count": 0,
      "outputs": []
    },
    {
      "cell_type": "code",
      "metadata": {
        "id": "zDsfU6NTUsVA",
        "colab_type": "code",
        "outputId": "54bc9634-2a0f-46d0-a54a-c86c00774efe",
        "colab": {
          "base_uri": "https://localhost:8080/",
          "height": 34
        }
      },
      "source": [
        "try:\n",
        "    os.mkdir(path+\"/\"+disease)\n",
        "except OSError:\n",
        "    print (\"Creation of the directory %s failed\" % path)\n",
        "else:\n",
        "    print (\"Successfully created the directory %s \" % path)"
      ],
      "execution_count": 113,
      "outputs": [
        {
          "output_type": "stream",
          "text": [
            "Successfully created the directory /content \n"
          ],
          "name": "stdout"
        }
      ]
    },
    {
      "cell_type": "code",
      "metadata": {
        "id": "ZonYROdqW3nh",
        "colab_type": "code",
        "colab": {
          "base_uri": "https://localhost:8080/",
          "height": 34
        },
        "outputId": "f4972f9d-e6a5-4b05-aeb8-37141fb7b4f3"
      },
      "source": [
        "url_20=\"https://www.gob.mx/salud/documentos/boletinepidemiologico-sistema-nacional-de-vigilancia-epidemiologica-sistema-unico-de-informacion-231750\"\n",
        "html_20=urllib.request.urlopen(url_20).read()\n",
        "soup_20 = BeautifulSoup(html_20, \"html.parser\")\n",
        "pdf_20=soup_20.findAll('a', attrs={'href': re.compile(\".\\.pdf\")})\n",
        "root=\"https://www.gob.mx\"\n",
        "filename=disease+\"/\"+\"neumonia.csv\"\n",
        "\n",
        "list_c=[]\n",
        "#for pdf in pdf_20[0]:\n",
        "pdf_url=root+pdf_20[0].attrs[\"href\"]\n",
        "semana=re.search(r\"([\\w\\d\\-.]+)\\.pdf\",pdf_url).group().split(\".\")[0]\n",
        "print(semana)\n",
        "##########################################################################\n",
        "#El punto está en identificar qué columna contiene los datos de neumonía\n",
        "##########################################################################\n",
        "tabla=tabula.read_pdf(pdf_url, pages = 23)\n",
        "for r in range(tabla[0].shape[0]):\n",
        "  try:\n",
        "    #print(tabla[0].iloc[:,0][r].strip(),\",\",tabla[0].iloc[:,3][r].split()[0],semana)\n",
        "    list_c.append([tabla[0].iloc[:,0][r].strip(),tabla[0].iloc[:,3][r].split()[0],semana])\n",
        "  except:\n",
        "    continue"
      ],
      "execution_count": 114,
      "outputs": [
        {
          "output_type": "stream",
          "text": [
            "sem11\n"
          ],
          "name": "stdout"
        }
      ]
    },
    {
      "cell_type": "code",
      "metadata": {
        "id": "FntyxDzIal2e",
        "colab_type": "code",
        "colab": {}
      },
      "source": [
        "df=pd.DataFrame(np.array(list_c[1:]),columns=[\"entidad\", \"casos\",\"semana\"] )\n",
        "df.to_csv(filename,header=True, index=False)\n"
      ],
      "execution_count": 0,
      "outputs": []
    },
    {
      "cell_type": "code",
      "metadata": {
        "id": "qbFx2RqnBIAl",
        "colab_type": "code",
        "colab": {
          "base_uri": "https://localhost:8080/",
          "height": 588
        },
        "outputId": "b14b3346-291c-433c-c57a-b57e80893251"
      },
      "source": [
        "list_c"
      ],
      "execution_count": 116,
      "outputs": [
        {
          "output_type": "execute_result",
          "data": {
            "text/plain": [
              "[['ENTIDAD', 'J12-J18', 'sem11'],\n",
              " ['Aguascalientes', '34', 'sem11'],\n",
              " ['Baja California', '173', 'sem11'],\n",
              " ['Baja California Sur', '23', 'sem11'],\n",
              " ['Campeche', '1', 'sem11'],\n",
              " ['Coahuila', '98', 'sem11'],\n",
              " ['Colima', '19', 'sem11'],\n",
              " ['Chiapas', '34', 'sem11'],\n",
              " ['Chihuahua', '210', 'sem11'],\n",
              " ['Ciudad de México', '294', 'sem11'],\n",
              " ['Durango', '20', 'sem11'],\n",
              " ['Guanajuato', '118', 'sem11'],\n",
              " ['Guerrero', '29', 'sem11'],\n",
              " ['Hidalgo', '55', 'sem11'],\n",
              " ['Jalisco', '441', 'sem11'],\n",
              " ['México', '142', 'sem11'],\n",
              " ['Michoacán', '33', 'sem11'],\n",
              " ['Morelos', '22', 'sem11'],\n",
              " ['Nayarit', '31', 'sem11'],\n",
              " ['Nuevo León', '111', 'sem11'],\n",
              " ['Oaxaca', '64', 'sem11'],\n",
              " ['Puebla', '55', 'sem11'],\n",
              " ['Querétaro', '41', 'sem11'],\n",
              " ['Quintana Roo', '18', 'sem11'],\n",
              " ['San Luis Potosí', '100', 'sem11'],\n",
              " ['Sinaloa', '145', 'sem11'],\n",
              " ['Sonora', '105', 'sem11'],\n",
              " ['Tabasco', '17', 'sem11'],\n",
              " ['Tamaulipas', '131', 'sem11'],\n",
              " ['Tlaxcala', '17', 'sem11'],\n",
              " ['Veracruz', '67', 'sem11'],\n",
              " ['Yucatán', '35', 'sem11'],\n",
              " ['Zacatecas', '70', 'sem11'],\n",
              " ['TOTAL', '2', 'sem11']]"
            ]
          },
          "metadata": {
            "tags": []
          },
          "execution_count": 116
        }
      ]
    }
  ]
}