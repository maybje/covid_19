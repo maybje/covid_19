{
  "nbformat": 4,
  "nbformat_minor": 0,
  "metadata": {
    "colab": {
      "name": "Untitled0.ipynb",
      "provenance": [],
      "collapsed_sections": [],
      "authorship_tag": "ABX9TyN2Ub9SHMqP/LaJ1tnjmPGD"
    },
    "kernelspec": {
      "name": "python3",
      "display_name": "Python 3"
    }
  },
  "cells": [
    {
      "cell_type": "code",
      "metadata": {
        "id": "kUTHo8l9YxHj",
        "colab_type": "code",
        "outputId": "c28545be-af4d-4716-d518-9f26e4cd8775",
        "colab": {
          "base_uri": "https://localhost:8080/",
          "height": 34
        }
      },
      "source": [
        "!apt-get install -y openjdk-8-jdk-headless -qq > /dev/null\n",
        "!pip install -q tabula-py"
      ],
      "execution_count": 0,
      "outputs": [
        {
          "output_type": "stream",
          "text": [
            "\u001b[K     |████████████████████████████████| 10.4MB 2.9MB/s \n",
            "\u001b[?25h"
          ],
          "name": "stdout"
        }
      ]
    },
    {
      "cell_type": "code",
      "metadata": {
        "id": "3YZAXL-eY0zX",
        "colab_type": "code",
        "colab": {}
      },
      "source": [
        "import os\n",
        "os.environ[\"JAVA_HOME\"] = \"/usr/lib/jvm/java-8-openjdk-amd64\""
      ],
      "execution_count": 0,
      "outputs": []
    },
    {
      "cell_type": "code",
      "metadata": {
        "id": "WEqZR3a_gL4H",
        "colab_type": "code",
        "outputId": "83ef4bb7-4e8b-49c6-8551-862286d8d0ab",
        "colab": {
          "base_uri": "https://localhost:8080/",
          "height": 205
        }
      },
      "source": [
        "pip install PyPDF2"
      ],
      "execution_count": 0,
      "outputs": [
        {
          "output_type": "stream",
          "text": [
            "Collecting PyPDF2\n",
            "\u001b[?25l  Downloading https://files.pythonhosted.org/packages/b4/01/68fcc0d43daf4c6bdbc6b33cc3f77bda531c86b174cac56ef0ffdb96faab/PyPDF2-1.26.0.tar.gz (77kB)\n",
            "\r\u001b[K     |████▎                           | 10kB 19.5MB/s eta 0:00:01\r\u001b[K     |████████▌                       | 20kB 1.8MB/s eta 0:00:01\r\u001b[K     |████████████▊                   | 30kB 2.3MB/s eta 0:00:01\r\u001b[K     |█████████████████               | 40kB 1.7MB/s eta 0:00:01\r\u001b[K     |█████████████████████▏          | 51kB 1.9MB/s eta 0:00:01\r\u001b[K     |█████████████████████████▍      | 61kB 2.3MB/s eta 0:00:01\r\u001b[K     |█████████████████████████████▋  | 71kB 2.5MB/s eta 0:00:01\r\u001b[K     |████████████████████████████████| 81kB 2.2MB/s \n",
            "\u001b[?25hBuilding wheels for collected packages: PyPDF2\n",
            "  Building wheel for PyPDF2 (setup.py) ... \u001b[?25l\u001b[?25hdone\n",
            "  Created wheel for PyPDF2: filename=PyPDF2-1.26.0-cp36-none-any.whl size=61086 sha256=db1ba2dee7368925faa53bcaadad4e32b1cc7dc85f183aae433c77098bbcf5e0\n",
            "  Stored in directory: /root/.cache/pip/wheels/53/84/19/35bc977c8bf5f0c23a8a011aa958acd4da4bbd7a229315c1b7\n",
            "Successfully built PyPDF2\n",
            "Installing collected packages: PyPDF2\n",
            "Successfully installed PyPDF2-1.26.0\n"
          ],
          "name": "stdout"
        }
      ]
    },
    {
      "cell_type": "code",
      "metadata": {
        "id": "YIT8a2kEUDJi",
        "colab_type": "code",
        "colab": {}
      },
      "source": [
        "import requests\n",
        "import urllib\n",
        "from bs4 import BeautifulSoup\n",
        "import re\n",
        "import io\n",
        "import PyPDF2\n",
        "import csv\n",
        "import tabula\n",
        "import pandas as pd\n",
        "import numpy as np"
      ],
      "execution_count": 0,
      "outputs": []
    },
    {
      "cell_type": "code",
      "metadata": {
        "id": "77yfNrl1UXOJ",
        "colab_type": "code",
        "colab": {}
      },
      "source": [
        "path=os.getcwd()\n",
        "\n",
        "disease=\"Neumonías\""
      ],
      "execution_count": 0,
      "outputs": []
    },
    {
      "cell_type": "code",
      "metadata": {
        "id": "zDsfU6NTUsVA",
        "colab_type": "code",
        "outputId": "3147f519-9e00-4c68-ba28-87494c1be5ef",
        "colab": {
          "base_uri": "https://localhost:8080/",
          "height": 34
        }
      },
      "source": [
        "try:\n",
        "    os.mkdir(path+\"/\"+disease)\n",
        "except OSError:\n",
        "    print (\"Creation of the directory %s failed\" % path)\n",
        "else:\n",
        "    print (\"Successfully created the directory %s \" % path)"
      ],
      "execution_count": 0,
      "outputs": [
        {
          "output_type": "stream",
          "text": [
            "Successfully created the directory /content \n"
          ],
          "name": "stdout"
        }
      ]
    },
    {
      "cell_type": "code",
      "metadata": {
        "id": "ZonYROdqW3nh",
        "colab_type": "code",
        "colab": {}
      },
      "source": [
        "url_20=\"https://www.gob.mx/salud/documentos/boletinepidemiologico-sistema-nacional-de-vigilancia-epidemiologica-sistema-unico-de-informacion-231750\"\n",
        "html_20=urllib.request.urlopen(url_20).read()\n",
        "soup_20 = BeautifulSoup(html_20, \"html.parser\")\n",
        "pdf_20=soup_20.findAll('a', attrs={'href': re.compile(\".\\.pdf\")})\n",
        "root=\"https://www.gob.mx\"\n",
        "filename=\"neumonia.csv\"\n",
        "\n",
        "list_c=[]\n",
        "#for pdf in pdf_20[0]:\n",
        "pdf_url=root+pdf_20[0].attrs[\"href\"]\n",
        "semana=re.search(r\"([\\w\\d\\-.]+)\\.pdf\",pdf_url).group().split(\".\")[0]\n",
        "print(semana)\n",
        "##########################################################################\n",
        "#El punto está en identificar qué columna contiene los datos de neumonía\n",
        "##########################################################################\n",
        "tabla=tabula.read_pdf(pdf_url, pages = 23)\n",
        "for r in range(tabla[0].shape[0]):\n",
        "  try:\n",
        "    #print(tabla[0].iloc[:,0][r].strip(),\",\",tabla[0].iloc[:,3][r].split()[0],semana)\n",
        "    list_c.append([tabla[0].iloc[:,0][r].strip(),tabla[0].iloc[:,3][r].split()[0],semana])\n",
        "  except:\n",
        "    continue"
      ],
      "execution_count": 0,
      "outputs": []
    },
    {
      "cell_type": "code",
      "metadata": {
        "id": "FntyxDzIal2e",
        "colab_type": "code",
        "colab": {}
      },
      "source": [
        "df=pd.DataFrame(np.array(list_c[1:]),columns=[\"entidad\", \"casos\"] )\n",
        "df.to_csv(filename,header=True, index=False)\n"
      ],
      "execution_count": 0,
      "outputs": []
    }
  ]
}